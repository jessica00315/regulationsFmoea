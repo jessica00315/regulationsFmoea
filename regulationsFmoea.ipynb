!pip install beautifulsoup4 lxml

from google.colab import files
import email, html, re
from bs4 import BeautifulSoup

# 上傳 .mhtml
uploaded = files.upload()
mhtml_filename = list(uploaded.keys())[0]
print("✅ 已上傳檔案：", mhtml_filename)

# 解析函式
def extract_moea_html_from_mhtml(mhtml_path):
    with open(mhtml_path, 'r', encoding='utf-8') as f:
        msg = email.message_from_file(f)

    html_parts = [part.get_payload(decode=True).decode(part.get_content_charset('utf-8'))
                  for part in msg.walk()
                  if part.get_content_type() == 'text/html']

    if not html_parts:
        raise ValueError("❌ 沒有找到 HTML 內容")

    soup = BeautifulSoup(html_parts[0], 'lxml')

    # 表格資訊擷取
    table = soup.find('table')
    info = {
        '法規名稱': '',
        '公發布日': '',
        '修正日期': '',
        '發文字號': '',
        '法規體系': ''
    }

    if table:
        for tr in table.find_all('tr'):
            th = tr.find('th')
            td = tr.find('td')
            if th and td:
                k = th.get_text(strip=True)
                v = td.get_text(strip=True)
                for key in info:
                    if key in k:
                        info[key] = v

    # 條文擷取（忽略空白段落）
    law_data = []
    content_div = soup.find("div", id="ctl00_cp_content_divContent")
    if content_div:
        fulltext = content_div.get_text("\n", strip=True)
        # 原本articles = re.split(r'(?=\n?\s*[一二三四五六七八九十]{1,3}、)', fulltext)

        # 將「一、」～「九十九、」等條文完整提取（處理多位數中文字）
        pattern = re.compile(r'\s*([一二三四五六七八九十百千]+)、')

        splits = pattern.split(fulltext)
        law_data = []

        # splits 格式會是 [前置內容, 條號1, 條文1, 條號2, 條文2, ...]
        for i in range(1, len(splits) - 1, 2):
            art_no = splits[i]
            art_content = splits[i+1].strip()
            if art_content:  # 避免空白內容
                law_data.append({
                    '章': '',
                    '章節': '',
                    '條': f"第{art_no}條",
                    '條文內容': art_content
                })

    return info, law_data

# HTML 產出
def generate_html_file(info, law_data):
    title = info['法規名稱']
    meta = f"公布：{info['公發布日']} ／ 修正：{info['修正日期']} ／ 發文字號：{info['發文字號']} ／ 體系：{info['法規體系']}"
    filename = f"{title}.html"

    html_content = f'''<!DOCTYPE html><html><head><meta charset="utf-8"><title>{title}</title>
    <style>
    body {{ font-family: '微軟正黑體'; margin: 20px; }}
    table {{ border-collapse: collapse; width: 100%; table-layout: fixed; }}
    th, td {{ border: 1px solid #aaa; padding: 8px; text-align: left; vertical-align: top; word-break: break-word; }}
    thead th {{ background: #eee; position: sticky; top: 0; z-index: 1; }}
    tbody tr:nth-child(even) {{ background-color: #f9f9f9; }}
    tbody tr:hover {{ background-color: #eef; }}
    textarea {{ width: 100%; height: 80px; padding: 4px; box-sizing: border-box; }}
    select:disabled, textarea:disabled {{ background-color: #f5f5f5; color: #333; }}
    .button {{ padding: 10px 15px; margin: 10px; background: #4CAF50; color: white; border: none; cursor: pointer; }}
    </style>
    <script>
    let confirmed = false;
    function toggleEdit() {{
      confirmed = false;
      document.querySelectorAll('select, textarea').forEach(el => el.disabled = false);
    }}
    function confirmEdit() {{
      confirmed = true;
      document.querySelectorAll('select, textarea').forEach(el => el.disabled = true);
    }}
    function downloadModifiedHTML() {{
      if (!confirmed) return alert('請先完成更新');
      document.querySelectorAll('tr').forEach((row) => {{
        row.querySelectorAll('select').forEach(sel => sel.setAttribute('data-selected', sel.value));
        const txt = row.querySelector('textarea');
        if (txt) txt.setAttribute('data-content', txt.value);
      }});
      const fileName = prompt('請輸入儲存檔名：', '{title}.html') || '{title}.html';
      const blob = new Blob(['<!DOCTYPE html>' + document.documentElement.outerHTML], {{ type: 'text/html' }});
      const a = document.createElement('a');
      a.href = URL.createObjectURL(blob);
      a.download = fileName;
      document.body.appendChild(a);
      a.click();
      document.body.removeChild(a);
    }}
    window.onload = () => {{
      document.querySelectorAll('tr').forEach((row) => {{
        row.querySelectorAll('select').forEach(sel => sel.value = sel.getAttribute('data-selected') || '否');
        const txt = row.querySelector('textarea');
        if (txt) txt.value = txt.getAttribute('data-content') || '';
      }});
    }}
    </script></head><body>
    <h2>{title}</h2>
    <p><strong>{meta}</strong></p>
    <table>
    <thead><tr><th>章</th><th>章節</th><th width="700wh">條文內容</th><th>定義條文</th><th>是否適用</th><th>是否符合</th><th width="300wh">說明</th></tr></thead>
    <tbody>'''

    for row in law_data:
        content = html.escape(row['條文內容']).replace('\n', '<br>')
        html_content += f'''<tr>
        <td>{row['章']}</td><td>{row['章節']}</td><td>{content}</td>
        <td><select data-selected="否" disabled><option>否</option><option>是</option></select></td>
        <td><select data-selected=" " disabled><option> </option><option>適用</option><option>不適用</option></select></td>
        <td><select data-selected=" " disabled><option> </option><option>符合</option><option>不符合</option></select></td>
        <td><textarea data-content="" disabled></textarea></td></tr>'''

    html_content += '''</tbody></table>
    <div><button class="button" onclick="toggleEdit()">更新</button>
    <button class="button" onclick="confirmEdit()">完成更新</button>
    <button class="button" onclick="downloadModifiedHTML()">下載更新版本</button>
    </div></body></html>'''

    with open(filename, 'w', encoding='utf-8') as f:
        f.write(html_content)
    return filename

# 執行產出
info, law_data = extract_moea_html_from_mhtml(mhtml_filename)
output_file = generate_html_file(info, law_data)
print(f"✅ 已產出：{output_file}")
files.download(output_file)
